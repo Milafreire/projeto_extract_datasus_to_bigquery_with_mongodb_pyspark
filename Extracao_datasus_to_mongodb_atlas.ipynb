{
  "nbformat": 4,
  "nbformat_minor": 0,
  "metadata": {
    "colab": {
      "provenance": [],
      "authorship_tag": "ABX9TyN0pzX1KDX20Ztrx7oBzkrD",
      "include_colab_link": true
    },
    "kernelspec": {
      "name": "python3",
      "display_name": "Python 3"
    },
    "language_info": {
      "name": "python"
    }
  },
  "cells": [
    {
      "cell_type": "markdown",
      "metadata": {
        "id": "view-in-github",
        "colab_type": "text"
      },
      "source": [
        "<a href=\"https://colab.research.google.com/github/Milafreire/projeto_extract_datasus_to_bigquery_with_mongodb_pyspark/blob/main/Extracao_datasus_to_mongodb_atlas.ipynb\" target=\"_parent\"><img src=\"https://colab.research.google.com/assets/colab-badge.svg\" alt=\"Open In Colab\"/></a>"
      ]
    },
    {
      "cell_type": "code",
      "source": [
        "!pip install pymongo"
      ],
      "metadata": {
        "id": "_JTdX6OUsadM",
        "colab": {
          "base_uri": "https://localhost:8080/"
        },
        "collapsed": true,
        "outputId": "00678ff7-96d1-4fca-ef3d-8ecfde9631be"
      },
      "execution_count": 1,
      "outputs": [
        {
          "output_type": "stream",
          "name": "stdout",
          "text": [
            "Collecting pymongo\n",
            "  Downloading pymongo-4.7.2-cp310-cp310-manylinux_2_17_x86_64.manylinux2014_x86_64.whl (670 kB)\n",
            "\u001b[2K     \u001b[90m━━━━━━━━━━━━━━━━━━━━━━━━━━━━━━━━━━━━━━━━\u001b[0m \u001b[32m670.0/670.0 kB\u001b[0m \u001b[31m6.7 MB/s\u001b[0m eta \u001b[36m0:00:00\u001b[0m\n",
            "\u001b[?25hCollecting dnspython<3.0.0,>=1.16.0 (from pymongo)\n",
            "  Downloading dnspython-2.6.1-py3-none-any.whl (307 kB)\n",
            "\u001b[2K     \u001b[90m━━━━━━━━━━━━━━━━━━━━━━━━━━━━━━━━━━━━━━━━\u001b[0m \u001b[32m307.7/307.7 kB\u001b[0m \u001b[31m9.4 MB/s\u001b[0m eta \u001b[36m0:00:00\u001b[0m\n",
            "\u001b[?25hInstalling collected packages: dnspython, pymongo\n",
            "Successfully installed dnspython-2.6.1 pymongo-4.7.2\n",
            "Collecting dotenv\n",
            "  Downloading dotenv-0.0.5.tar.gz (2.4 kB)\n",
            "  \u001b[1;31merror\u001b[0m: \u001b[1msubprocess-exited-with-error\u001b[0m\n",
            "  \n",
            "  \u001b[31m×\u001b[0m \u001b[32mpython setup.py egg_info\u001b[0m did not run successfully.\n",
            "  \u001b[31m│\u001b[0m exit code: \u001b[1;36m1\u001b[0m\n",
            "  \u001b[31m╰─>\u001b[0m See above for output.\n",
            "  \n",
            "  \u001b[1;35mnote\u001b[0m: This error originates from a subprocess, and is likely not a problem with pip.\n",
            "  Preparing metadata (setup.py) ... \u001b[?25l\u001b[?25herror\n",
            "\u001b[1;31merror\u001b[0m: \u001b[1mmetadata-generation-failed\u001b[0m\n",
            "\n",
            "\u001b[31m×\u001b[0m Encountered error while generating package metadata.\n",
            "\u001b[31m╰─>\u001b[0m See above for output.\n",
            "\n",
            "\u001b[1;35mnote\u001b[0m: This is an issue with the package mentioned above, not pip.\n",
            "\u001b[1;36mhint\u001b[0m: See above for details.\n"
          ]
        }
      ]
    },
    {
      "cell_type": "code",
      "source": [
        "#Credentials"
      ],
      "metadata": {
        "id": "O1dy1ggUCpl7"
      },
      "execution_count": 37,
      "outputs": []
    },
    {
      "cell_type": "code",
      "source": [
        "import os\n",
        "import requests\n",
        "from requests.auth import HTTPBasicAuth\n",
        "from pymongo import MongoClient, errors"
      ],
      "metadata": {
        "id": "eUTpmc4crsyh"
      },
      "execution_count": 13,
      "outputs": []
    },
    {
      "cell_type": "code",
      "source": [
        "def get_mongo_client():\n",
        "    try:\n",
        "        client = MongoClient(connection_url)\n",
        "        return client\n",
        "    except errors.ConnectionError as e:\n",
        "        print(f\"Erro ao conectar ao MongoDB: {e}\")\n",
        "        raise"
      ],
      "metadata": {
        "id": "9wV3eTJZMt2Y"
      },
      "execution_count": 33,
      "outputs": []
    },
    {
      "cell_type": "code",
      "source": [
        "def get_auth_token(auth_url, username, password):\n",
        "    headers = {'Content-Type': 'application/json'}\n",
        "    try:\n",
        "        response = requests.get(auth_url, auth=HTTPBasicAuth(username, password), headers=headers)\n",
        "        response.raise_for_status()\n",
        "        return response.headers.get('Authorization')\n",
        "    except requests.exceptions.RequestException as e:\n",
        "        print(f\"Erro ao obter o token de autenticação: {e}\")\n",
        "        raise"
      ],
      "metadata": {
        "id": "L8-VofbQBX70"
      },
      "execution_count": 34,
      "outputs": []
    },
    {
      "cell_type": "code",
      "source": [
        "def fetch_data(data_url, username, password):\n",
        "    headers = {'Content-Type': 'application/json'}\n",
        "    data_payload = {\"size\": \"10000\"}\n",
        "    try:\n",
        "        response = requests.post(data_url, json=data_payload, auth=HTTPBasicAuth(username, password), headers=headers)\n",
        "        response.raise_for_status()\n",
        "        return response.json()\n",
        "    except requests.exceptions.RequestException as e:\n",
        "        print(f\"Erro ao buscar dados: {e}\")\n",
        "        raise"
      ],
      "metadata": {
        "id": "xP2TUxgjBZ9K"
      },
      "execution_count": 28,
      "outputs": []
    },
    {
      "cell_type": "code",
      "source": [
        "def insert_data_to_mongo(collection, data):\n",
        "    try:\n",
        "        collection.insert_many(data['hits']['hits'], ordered=False)\n",
        "        print(\"Dados inseridos no MongoDB com sucesso!\")\n",
        "    except errors.BulkWriteError as e:\n",
        "        print(f\"Erro ao inserir dados no MongoDB: {e}\")\n",
        "    except Exception as e:\n",
        "        print(f\"Erro inesperado: {e}\")"
      ],
      "metadata": {
        "id": "oFkCkumeBbpy"
      },
      "execution_count": 35,
      "outputs": []
    },
    {
      "cell_type": "code",
      "source": [
        "def main():\n",
        "    # Conectar ao MongoDB\n",
        "    client = get_mongo_client()\n",
        "    db = client[database_name]\n",
        "    collection = db[collection_name]\n",
        "\n",
        "    # Obter token de autenticação\n",
        "    token = get_auth_token(url_name, username, password)\n",
        "\n",
        "    # Buscar dados\n",
        "    data = fetch_data(url_data, username, password)\n",
        "\n",
        "    # Inserir dados no MongoDB\n",
        "    insert_data_to_mongo(collection, data)\n",
        "\n",
        "if __name__ == \"__main__\":\n",
        "    main()"
      ],
      "metadata": {
        "colab": {
          "base_uri": "https://localhost:8080/"
        },
        "id": "0qLKK2kkBeBi",
        "outputId": "79afa0dc-fa41-4e2d-eb15-f6e8a5a4d0d2"
      },
      "execution_count": 38,
      "outputs": [
        {
          "output_type": "stream",
          "name": "stderr",
          "text": [
            "IOPub data rate exceeded.\n",
            "The notebook server will temporarily stop sending output\n",
            "to the client in order to avoid crashing it.\n",
            "To change this limit, set the config variable\n",
            "`--NotebookApp.iopub_data_rate_limit`.\n",
            "\n",
            "Current values:\n",
            "NotebookApp.iopub_data_rate_limit=1000000.0 (bytes/sec)\n",
            "NotebookApp.rate_limit_window=3.0 (secs)\n",
            "\n"
          ]
        }
      ]
    }
  ]
}